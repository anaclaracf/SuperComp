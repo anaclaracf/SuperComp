{
 "cells": [
  {
   "cell_type": "markdown",
   "metadata": {},
   "source": [
    "## Relatório Algoritmo de Busca Exaustiva\n",
    "\n",
    "Aluna: Ana Clara Carneiro de Freitas\n",
    "\n",
    "----------------------------------------------"
   ]
  },
  {
   "cell_type": "markdown",
   "metadata": {},
   "source": [
    "## Execução\n",
    "\n",
    "Inicialmente, foi utilizado o programa apresentado abaixo para gerar a entrada que o algoritmo ingênuo utilizará. Este gera um arquivo txt apelidado de **input** com quatro linhas, as quais indicam, respectivamente:\n",
    "- o tamanho da primeira sequência\n",
    "- o tamanho da segunda sequência\n",
    "- a primeira sequência \n",
    "- a segunda sequência"
   ]
  },
  {
   "cell_type": "code",
   "execution_count": 1,
   "metadata": {},
   "outputs": [
    {
     "name": "stdout",
     "output_type": "stream",
     "text": [
      "10\n",
      "40\n",
      "GTCC--T-GA\n",
      "AG--TTAGCCC--A--TGCTGAGCCG--GGTTGGAGA-A-\n"
     ]
    }
   ],
   "source": [
    "import random\n",
    "n = 10 # tamanho da primeira sequência\n",
    "m = 40 # tamanho da segunda sequência\n",
    "file = 'input' # nome do arquivo a ser gerado\n",
    "f = open(file, 'w')\n",
    "seq=[str(n)+'\\n',\n",
    "     str(m)+'\\n',\n",
    "     ''.join(random.choices(['A','T','C','G','-'],k=n))+'\\n',\n",
    "     ''.join(random.choices(['A','T','C','G','-'],k=m))]\n",
    "f.writelines(seq)\n",
    "f.close()\n",
    "print(''.join(seq))"
   ]
  },
  {
   "cell_type": "markdown",
   "metadata": {},
   "source": [
    "------------------\n",
    "### Busca Exaustiva com alinhamento Local de Smith-Waterman"
   ]
  },
  {
   "cell_type": "markdown",
   "metadata": {},
   "source": [
    "Para a primeira implementação da busca exaustiva foi utilizado a estratégia implementada na primeira entrega, o alinhamento por meio de Smith-Waterman."
   ]
  },
  {
   "cell_type": "markdown",
   "metadata": {},
   "source": [
    "Assim, com o arquivo de entrada estabelecido, o próximo passo realizado no projeto foi compilar o mesmo com o comando apresentado abaixo, gerando um executável denominado **main_sw**.\n",
    "\n",
    "`g++ -Wall -O3 main_SW.cpp -o main_sw`"
   ]
  },
  {
   "cell_type": "markdown",
   "metadata": {},
   "source": [
    "Com o executável gerado, o código abaixo permite que o programa desenvolvido em c++ seja rodado, recebendo como entradas o arquivo input, criado acima, e gerando uma resposta com as sequências alinhadas."
   ]
  },
  {
   "cell_type": "code",
   "execution_count": 2,
   "metadata": {},
   "outputs": [
    {
     "name": "stdout",
     "output_type": "stream",
     "text": [
      "Tempo total(s): 0.060305124963633716\n"
     ]
    }
   ],
   "source": [
    "import subprocess\n",
    "import time\n",
    "\n",
    "with open('input') as f:\n",
    "    start = time.perf_counter()\n",
    "    proc = subprocess.run(['./main_sw'], input=f.read(), text=True, capture_output=True)\n",
    "    end = time.perf_counter()\n",
    "\n",
    "    print('Tempo total(s):', end - start)"
   ]
  },
  {
   "cell_type": "markdown",
   "metadata": {},
   "source": [
    "A resposta abaixo é o resultado do score máximo entre as duas sub sequências utilizadas. "
   ]
  },
  {
   "cell_type": "code",
   "execution_count": 11,
   "metadata": {},
   "outputs": [
    {
     "data": {
      "text/plain": [
       "['Score maximo: 10',\n",
       " 'Primeira sequencia utilizada: GTCC--T-',\n",
       " 'Segunda sequencia utilizada: AG--TTAGCCC--A-',\n",
       " '']"
      ]
     },
     "execution_count": 11,
     "metadata": {},
     "output_type": "execute_result"
    }
   ],
   "source": [
    "str(proc.stdout).split(\"\\n\")"
   ]
  },
  {
   "cell_type": "markdown",
   "metadata": {},
   "source": [
    "------------------\n",
    "### Busca Exaustiva com alinhamento por meio de truncamento"
   ]
  },
  {
   "cell_type": "markdown",
   "metadata": {},
   "source": [
    "A segunda implementação da busca exaustiva foi feito por meio de um truncamento da subsequencia maior pelo tamanho da subsequencia menor e calcular o score simples entre as duas subsequencias resultantes."
   ]
  },
  {
   "cell_type": "markdown",
   "metadata": {},
   "source": [
    "Assim, com o arquivo de entrada estabelecido, o próximo passo realizado no projeto foi compilar o mesmo com o comando apresentado abaixo, gerando um executável denominado **main_trunc**.\n",
    "\n",
    "`g++ -Wall -O3 main_trunc.cpp -o main_trunc`"
   ]
  },
  {
   "cell_type": "markdown",
   "metadata": {},
   "source": [
    "Com o executável gerado, o código abaixo permite que o programa desenvolvido em c++ seja rodado, recebendo como entradas o arquivo input, criado acima, e gerando uma resposta com as sequências alinhadas."
   ]
  },
  {
   "cell_type": "code",
   "execution_count": 12,
   "metadata": {},
   "outputs": [
    {
     "name": "stdout",
     "output_type": "stream",
     "text": [
      "Tempo total(s): 0.008933103061281145\n"
     ]
    }
   ],
   "source": [
    "import subprocess\n",
    "import time\n",
    "\n",
    "with open('input') as f:\n",
    "    start = time.perf_counter()\n",
    "    proc = subprocess.run(['./main_trunc'], input=f.read(), text=True, capture_output=True)\n",
    "    end = time.perf_counter()\n",
    "\n",
    "    print('Tempo total(s):', end - start)"
   ]
  },
  {
   "cell_type": "markdown",
   "metadata": {},
   "source": [
    "A resposta abaixo é o resultado do score máximo entre as duas sub sequências utilizadas. "
   ]
  },
  {
   "cell_type": "code",
   "execution_count": 13,
   "metadata": {},
   "outputs": [
    {
     "data": {
      "text/plain": [
       "['Score maximo: 10',\n",
       " 'Primeira sequencia utilizada: GTCC--T-',\n",
       " 'Segunda sequencia utilizada: GCCC--A-',\n",
       " '']"
      ]
     },
     "execution_count": 13,
     "metadata": {},
     "output_type": "execute_result"
    }
   ],
   "source": [
    "str(proc.stdout).split(\"\\n\")"
   ]
  }
 ],
 "metadata": {
  "kernelspec": {
   "display_name": "Python 3",
   "language": "python",
   "name": "python3"
  },
  "language_info": {
   "codemirror_mode": {
    "name": "ipython",
    "version": 3
   },
   "file_extension": ".py",
   "mimetype": "text/x-python",
   "name": "python",
   "nbconvert_exporter": "python",
   "pygments_lexer": "ipython3",
   "version": "3.8.10"
  }
 },
 "nbformat": 4,
 "nbformat_minor": 2
}
