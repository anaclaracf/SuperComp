{
 "cells": [
  {
   "cell_type": "markdown",
   "metadata": {},
   "source": [
    "## Paralelismo com OpenMP"
   ]
  },
  {
   "cell_type": "markdown",
   "metadata": {},
   "source": [
    "Até agora foram implementadas três estratégias sequenciais para o problema de alinhamento de sequencias de DNA: busca heurística, busca local e busca exaustiva. Neste projeto foi realizado a paralelização da busca exaustiva com o alinhamento por meio de Smith-Waterman."
   ]
  },
  {
   "cell_type": "markdown",
   "metadata": {},
   "source": [
    "Para isso, a estratégia para paralelizar foi encontrar a area de maior demanda de código por meio das ferramentas de profiling e, a partir disso, foi possível identificar que era na chamada da função de calculo dos scores. Com essa informação em mente foi possível aplicar o openmp nesse ponto."
   ]
  },
  {
   "cell_type": "markdown",
   "metadata": {},
   "source": [
    "### Execução\n",
    "\n",
    "Inicialmente, foi utilizado o programa apresentado abaixo para gerar a entrada que o algoritmo utilizará. Este gera um arquivo txt apelidado de **dna.seq** com quatro linhas, as quais indicam, respectivamente:\n",
    "- o tamanho da primeira sequência\n",
    "- o tamanho da segunda sequência\n",
    "- a primeira sequência \n",
    "- a segunda sequência"
   ]
  },
  {
   "cell_type": "code",
   "execution_count": 1,
   "metadata": {},
   "outputs": [
    {
     "name": "stdout",
     "output_type": "stream",
     "text": [
      "10\n",
      "40\n",
      "-GCTC-TCCC\n",
      "ATG-TACCAATTTAACCCGGT-GTTA-TAAATCCA-AAC-\n"
     ]
    }
   ],
   "source": [
    "import random\n",
    "n = 10 # tamanho da primeira sequência\n",
    "m = 40 # tamanho da segunda sequência\n",
    "file = 'dna.seq' # nome do arquivo a ser gerado\n",
    "f = open(file, 'w')\n",
    "seq=[str(n)+'\\n',\n",
    "     str(m)+'\\n',\n",
    "     ''.join(random.choices(['A','T','C','G','-'],k=n))+'\\n',\n",
    "     ''.join(random.choices(['A','T','C','G','-'],k=m))]\n",
    "f.writelines(seq)\n",
    "f.close()\n",
    "print(''.join(seq))"
   ]
  },
  {
   "cell_type": "markdown",
   "metadata": {},
   "source": [
    "Assim, com o arquivo de entrada estabelecido, o próximo passo realizado no projeto foi compilar o mesmo com o comando apresentado abaixo, gerando um executável denominado **main**.\n",
    "\n",
    "`g++ -Wall -O3 main.cpp -o main`"
   ]
  },
  {
   "cell_type": "markdown",
   "metadata": {},
   "source": [
    "Com o executável gerado, o código abaixo permite que o programa desenvolvido em c++ seja rodado, recebendo como entradas o arquivo dna.seq, criado acima, e gerando uma resposta com as sequências alinhadas e em quanto tempo este programa rodou."
   ]
  },
  {
   "cell_type": "code",
   "execution_count": 4,
   "metadata": {},
   "outputs": [
    {
     "name": "stdout",
     "output_type": "stream",
     "text": [
      "Saída: Score maximo: 8\n",
      "Primeira sequencia utilizada: TC-TCCC\n",
      "Segunda sequencia utilizada: TG-TACCAATTTAACCCGGT-GTTA-TAAATCCA-AAC-\n",
      "\n",
      "Tempo total(s): 0.03173673298442736\n"
     ]
    }
   ],
   "source": [
    "import subprocess\n",
    "import time\n",
    "\n",
    "with open('dna.seq') as f:\n",
    "    start = time.perf_counter()\n",
    "    proc = subprocess.run(['./main'], input=f.read(), text=True, capture_output=True)\n",
    "    end = time.perf_counter()\n",
    "\n",
    "    print('Saída:', proc.stdout)\n",
    "    print('Tempo total(s):', end - start)"
   ]
  },
  {
   "cell_type": "markdown",
   "metadata": {},
   "source": [
    "Para fins de comparação, foi rodado a implementação da busca exaustiva por smith-waterman sem a paralelização para ver em quanto tempo o programa rodaria."
   ]
  },
  {
   "cell_type": "code",
   "execution_count": 5,
   "metadata": {},
   "outputs": [
    {
     "name": "stdout",
     "output_type": "stream",
     "text": [
      "Saída: Score maximo: 8\n",
      "Primeira sequencia utilizada: -GCTC-T\n",
      "Segunda sequencia utilizada: ATG-TACCAATTTAACCCGGT-GTTA-T\n",
      "\n",
      "Tempo total(s): 0.05143294500885531\n"
     ]
    }
   ],
   "source": [
    "import subprocess\n",
    "import time\n",
    "\n",
    "with open('dna.seq') as f:\n",
    "    start = time.perf_counter()\n",
    "    proc = subprocess.run(['./main_sw'], input=f.read(), text=True, capture_output=True)\n",
    "    end = time.perf_counter()\n",
    "\n",
    "    print('Saída:', proc.stdout)\n",
    "    print('Tempo total(s):', end - start)"
   ]
  },
  {
   "cell_type": "markdown",
   "metadata": {},
   "source": [
    "A partir disso, foi possível perceber que a paralelização realmente otimiza o código em questão de eficiência de tempo, percebendo uma diferença de 0.02s."
   ]
  },
  {
   "cell_type": "markdown",
   "metadata": {},
   "source": [
    "------------------------------\n",
    "## Validação\n",
    "\n",
    "Para validar se os resultados obtidos pelo programa eram o esperado, foi utilizado o [Simulador online do Algoritmo de Smith-Waterman](http://rna.informatik.uni-freiburg.de/Teaching/index.jsp?toolName=Smith-Waterman). As imagens apresentadas abaixo indicam que os resultados foram de fato iguais.\n",
    "\n",
    "Sequências utilizadas:\n",
    "\n",
    "```\n",
    "-GCTC-TCCC\n",
    "ATG-TACCAATTTAACCCGGT-GTTA-TAAATCCA-AAC-\n",
    "```"
   ]
  },
  {
   "cell_type": "markdown",
   "metadata": {},
   "source": [
    "- Resultado do algoritmo implementado\n",
    "\n",
    "``` \n",
    "Saída: Score maximo: 8\n",
    "Primeira sequencia utilizada: TC-TCCC\n",
    "Segunda sequencia utilizada: TG-TACCAATTTAACCCGGT-GTTA-TAAATCCA-AAC-\n",
    "``` "
   ]
  },
  {
   "cell_type": "markdown",
   "metadata": {},
   "source": [
    "- Resultado do Simulador\n",
    "\n",
    "\n",
    "![input](img/simulador.jpg)"
   ]
  },
  {
   "cell_type": "markdown",
   "metadata": {},
   "source": []
  }
 ],
 "metadata": {
  "interpreter": {
   "hash": "916dbcbb3f70747c44a77c7bcd40155683ae19c65e1c03b4aa3499c5328201f1"
  },
  "kernelspec": {
   "display_name": "Python 3.8.10 64-bit",
   "language": "python",
   "name": "python3"
  },
  "language_info": {
   "codemirror_mode": {
    "name": "ipython",
    "version": 3
   },
   "file_extension": ".py",
   "mimetype": "text/x-python",
   "name": "python",
   "nbconvert_exporter": "python",
   "pygments_lexer": "ipython3",
   "version": "3.8.10"
  },
  "orig_nbformat": 4
 },
 "nbformat": 4,
 "nbformat_minor": 2
}
