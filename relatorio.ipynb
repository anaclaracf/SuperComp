{
 "cells": [
  {
   "cell_type": "markdown",
   "metadata": {},
   "source": [
    "## Relatório Heurística de Alinhamento Local de Smith-Waterman\n",
    "\n",
    "Aluna: Ana Clara Carneiro de Freitas\n",
    "\n",
    "----------------------------------------------"
   ]
  },
  {
   "cell_type": "markdown",
   "metadata": {},
   "source": [
    "## Execução\n",
    "\n",
    "Inicialmente, foi utilizado o programa apresentado abaixo para gerar a entrada que o algoritmo ingênuo utilizará. Este gera um arquivo txt apelidado de **dna.seq** com quatro linhas, as quais indicam, respectivamente:\n",
    "- o tamanho da primeira sequência\n",
    "- o tamanho da segunda sequência\n",
    "- a primeira sequência \n",
    "- a segunda sequência"
   ]
  },
  {
   "cell_type": "code",
   "execution_count": 6,
   "metadata": {},
   "outputs": [
    {
     "name": "stdout",
     "output_type": "stream",
     "text": [
      "10\n",
      "10\n",
      "G-GC--AGAG\n",
      "--TCGT--TA\n"
     ]
    }
   ],
   "source": [
    "import random\n",
    "n = 10 # tamanho da primeira sequência\n",
    "m = 10 # tamanho da segunda sequência\n",
    "file = 'input' # nome do arquivo a ser gerado\n",
    "f = open(file, 'w')\n",
    "seq=[str(n)+'\\n',\n",
    "     str(m)+'\\n',\n",
    "     ''.join(random.choices(['A','T','C','G','-'],k=n))+'\\n',\n",
    "     ''.join(random.choices(['A','T','C','G','-'],k=m))]\n",
    "f.writelines(seq)\n",
    "f.close()\n",
    "print(''.join(seq))"
   ]
  },
  {
   "cell_type": "markdown",
   "metadata": {},
   "source": [
    "Com o arquivo de entrada estabelecido, o próximo passo realizado no projeto foi compilar o mesmo com o comando apresentado abaixo, gerando um executável denominado **algoritmo**.\n",
    "\n",
    "`g++ -Wall -O3 main.cpp -o algoritmo`"
   ]
  },
  {
   "cell_type": "markdown",
   "metadata": {},
   "source": [
    "Com o executável gerado, o código abaixo permite que o programa desenvolvido em c++ seja rodado, recebendo como entradas o arquivo input, criado acima, e gerando um arquivo txt denominado **output** com as sequências alinhadas."
   ]
  },
  {
   "cell_type": "code",
   "execution_count": 7,
   "metadata": {},
   "outputs": [
    {
     "name": "stdout",
     "output_type": "stream",
     "text": [
      "Tempo total(s): 0.007317775045521557\n"
     ]
    }
   ],
   "source": [
    "import subprocess\n",
    "import time\n",
    "\n",
    "with open('input') as f:\n",
    "    start = time.perf_counter()\n",
    "    proc = subprocess.run(['./algoritmo'], input=f.read(), text=True, capture_output=True)\n",
    "    end = time.perf_counter()\n",
    "\n",
    "    print('Tempo total(s):', end - start)"
   ]
  },
  {
   "cell_type": "markdown",
   "metadata": {},
   "source": [
    "O arquivo abaixo indica qual foi o alinhamento local ótimo calculado pelo algoritmo ingênuo desenvolvido, o qual se encontra no arquivo **main.cpp**,"
   ]
  },
  {
   "cell_type": "code",
   "execution_count": 8,
   "metadata": {},
   "outputs": [
    {
     "name": "stdout",
     "output_type": "stream",
     "text": [
      "GC---A\n",
      "GT--TA\n"
     ]
    }
   ],
   "source": [
    "output_file = open(\"output\", \"r\")\n",
    "\n",
    "print(output_file.read())"
   ]
  },
  {
   "cell_type": "markdown",
   "metadata": {},
   "source": [
    "------------------------------\n",
    "## Validação\n",
    "\n",
    "Para validar se os resultados obtidos pelo programa eram o esperado, foi utilizado o [Simulador online do Algoritmo de Smith-Waterman](http://rna.informatik.uni-freiburg.de/Teaching/index.jsp?toolName=Smith-Waterman). As imagens apresentadas abaixo indicam que os resultados foram de fato iguais.\n",
    "\n"
   ]
  },
  {
   "cell_type": "markdown",
   "metadata": {},
   "source": [
    "- Resultado gerado pelo código implementado:\n",
    "\n",
    "    - Input\n",
    "\n",
    "        ![input](img/input.png)\n",
    "\n",
    "    - Output\n",
    "\n",
    "        ![output](img/output.png)\n",
    "\n"
   ]
  },
  {
   "cell_type": "markdown",
   "metadata": {},
   "source": [
    "- Resultado gerado pelo Simulador:\n",
    "\n",
    "<img src=\"img/resultado.png\" width=\"500\" height=\"500\"/>\n"
   ]
  },
  {
   "cell_type": "markdown",
   "metadata": {},
   "source": []
  }
 ],
 "metadata": {
  "interpreter": {
   "hash": "916dbcbb3f70747c44a77c7bcd40155683ae19c65e1c03b4aa3499c5328201f1"
  },
  "kernelspec": {
   "display_name": "Python 3.8.10 64-bit",
   "language": "python",
   "name": "python3"
  },
  "language_info": {
   "codemirror_mode": {
    "name": "ipython",
    "version": 3
   },
   "file_extension": ".py",
   "mimetype": "text/x-python",
   "name": "python",
   "nbconvert_exporter": "python",
   "pygments_lexer": "ipython3",
   "version": "3.8.10"
  },
  "orig_nbformat": 4
 },
 "nbformat": 4,
 "nbformat_minor": 2
}
