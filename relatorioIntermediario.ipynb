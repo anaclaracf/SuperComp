{
 "cells": [
  {
   "cell_type": "markdown",
   "metadata": {},
   "source": [
    "# Relatório Intermediário - Alinhamento de Sequencias de DNA\n",
    "### Super Computação\n",
    "Aluna: Ana Clara Carneiro de Freitas"
   ]
  },
  {
   "cell_type": "markdown",
   "metadata": {},
   "source": [
    "Este projeto foi desenvolvido com o intuito de testar e desenvolver diversas estratégias para realizar o alinhamento de sequências de DNA, o qual consiste em comparar duas sequências de bases para observar seu nível de similaridade. Tal similaridade é calculada por meio dos acertos (matchs), os quais contribuem com um sinal positivo nessa similaridade, e dos erros (gaps e mismatchs), que contribuem negativamente."
   ]
  },
  {
   "cell_type": "markdown",
   "metadata": {},
   "source": [
    "Dessa maneira, visando encontrar um alinhamento que maximize esse nível de similaridade, foram implementadas três estratégias, sendo elas uma Solução Heurística, uma Busca Local e, por fim, uma Busca Exaustiva."
   ]
  },
  {
   "cell_type": "markdown",
   "metadata": {},
   "source": [
    "---------------------\n",
    "### Solução Heurística de Alinhamento Local de Smith-Waterman"
   ]
  },
  {
   "cell_type": "markdown",
   "metadata": {},
   "source": [
    "A primeira estratégia implementada foi a heurística, a qual realiza seu  alinhamento de sequências de DNA por meio do algoritmo smith-waterman. "
   ]
  },
  {
   "cell_type": "code",
   "execution_count": 10,
   "metadata": {},
   "outputs": [],
   "source": [
    "import subprocess\n",
    "import time\n",
    "\n",
    "def roda_com_entrada(ex, in_f):\n",
    "    with open(in_f) as f:\n",
    "        start = time.perf_counter()\n",
    "        proc = subprocess.run([ex], input=f.read(), text=True, capture_output=True)\n",
    "        end = time.perf_counter()\n",
    "\n",
    "    return proc.stdout, end-start"
   ]
  },
  {
   "cell_type": "code",
   "execution_count": 9,
   "metadata": {},
   "outputs": [],
   "source": [
    "valores_n = []"
   ]
  },
  {
   "cell_type": "code",
   "execution_count": 11,
   "metadata": {},
   "outputs": [],
   "source": [
    "import random\n",
    "\n",
    "for i in range(5,605,10):\n",
    "    for j in range(0, 30):\n",
    "        random.seed(10)\n",
    "        n = i # tamanho da primeira sequência\n",
    "        m = random.randint(i,650) # tamanho da segunda sequência\n",
    "        valores_n.append(n)\n",
    "\n",
    "        file = './Entradas/input'+ str(i) + '_'+ str(j)# nome do arquivo a ser gerado\n",
    "        f = open(file, 'w')\n",
    "        seq=[str(n)+'\\n',\n",
    "            str(m)+'\\n',\n",
    "            ''.join(random.choices(['A','T','C','G','-'],k=n))+'\\n',\n",
    "            ''.join(random.choices(['A','T','C','G','-'],k=m))]\n",
    "        f.writelines(seq)\n",
    "        f.close()"
   ]
  },
  {
   "cell_type": "code",
   "execution_count": 92,
   "metadata": {},
   "outputs": [],
   "source": [
    "arqs = [f'./Entradas/input{i}' for i in valores_n]"
   ]
  },
  {
   "cell_type": "code",
   "execution_count": 93,
   "metadata": {},
   "outputs": [],
   "source": [
    "tempos_sw = [roda_com_entrada('./Smith-Waterman/main', arq)[1] for arq in arqs]"
   ]
  },
  {
   "cell_type": "code",
   "execution_count": 94,
   "metadata": {},
   "outputs": [
    {
     "data": {
      "image/png": "[encoded data removed]",
      "text/plain": [
       "<Figure size 720x360 with 1 Axes>"
      ]
     },
     "metadata": {
      "needs_background": "light"
     },
     "output_type": "display_data"
    }
   ],
   "source": [
    "import matplotlib.pyplot as plt\n",
    "fig, ax = plt.subplots(figsize=(10,5))\n",
    "ax.set_xlabel('n')\n",
    "ax.set_ylabel('tempo (seg)')\n",
    "ax.scatter(valores_n, tempos_sw)\n",
    "plt.show()"
   ]
  },
  {
   "cell_type": "markdown",
   "metadata": {},
   "source": [
    "------------------------------\n",
    "### Algoritmo Local para Alinhamento"
   ]
  },
  {
   "cell_type": "code",
   "execution_count": 95,
   "metadata": {},
   "outputs": [],
   "source": [
    "tempos_buscaLocal = [roda_com_entrada('./BuscaLocal/main', arq)[1] for arq in arqs]"
   ]
  },
  {
   "cell_type": "code",
   "execution_count": 96,
   "metadata": {},
   "outputs": [
    {
     "data": {
      "image/png": "[encoded data removed]",
      "text/plain": [
       "<Figure size 720x360 with 1 Axes>"
      ]
     },
     "metadata": {
      "needs_background": "light"
     },
     "output_type": "display_data"
    }
   ],
   "source": [
    "import matplotlib.pyplot as plt\n",
    "fig, ax = plt.subplots(figsize=(10,5))\n",
    "ax.set_xlabel('n')\n",
    "ax.set_ylabel('tempo (seg)')\n",
    "ax.scatter(valores_n, tempos_buscaLocal)\n",
    "plt.show()"
   ]
  },
  {
   "cell_type": "markdown",
   "metadata": {},
   "source": [
    "---------------------\n",
    "### Busca Exaustiva para Alinhamento de Sequencias utilizando a estratégia de alinhamento Local de Smith-Waterman"
   ]
  },
  {
   "cell_type": "code",
   "execution_count": 97,
   "metadata": {},
   "outputs": [],
   "source": [
    "n_exaustivo = []"
   ]
  },
  {
   "cell_type": "code",
   "execution_count": 98,
   "metadata": {},
   "outputs": [],
   "source": [
    "for i in range(5,50,10):\n",
    "    random.seed(10)\n",
    "    n = i # tamanho da primeira sequência\n",
    "    m = random.randint(i,50) # tamanho da segunda sequência\n",
    "    n_exaustivo.append(n)\n",
    "\n",
    "    file = './Entradas/input_exaustiva'+ str(i) # nome do arquivo a ser gerado\n",
    "    f = open(file, 'w')\n",
    "    seq=[str(n)+'\\n',\n",
    "        str(m)+'\\n',\n",
    "        ''.join(random.choices(['A','T','C','G','-'],k=n))+'\\n',\n",
    "        ''.join(random.choices(['A','T','C','G','-'],k=m))]\n",
    "    f.writelines(seq)\n",
    "    f.close()"
   ]
  },
  {
   "cell_type": "code",
   "execution_count": 99,
   "metadata": {},
   "outputs": [],
   "source": [
    "arqs_exaustivo = [f'./Entradas/input_exaustiva{i}' for i in n_exaustivo]"
   ]
  },
  {
   "cell_type": "code",
   "execution_count": 100,
   "metadata": {},
   "outputs": [],
   "source": [
    "tempos_exaust_sw = [roda_com_entrada('./BuscaExaustiva/main_sw', arq)[1] for arq in arqs_exaustivo]"
   ]
  },
  {
   "cell_type": "code",
   "execution_count": 101,
   "metadata": {},
   "outputs": [
    {
     "data": {
      "image/png": "[encoded data removed]",
      "text/plain": [
       "<Figure size 720x360 with 1 Axes>"
      ]
     },
     "metadata": {
      "needs_background": "light"
     },
     "output_type": "display_data"
    }
   ],
   "source": [
    "import matplotlib.pyplot as plt\n",
    "fig, ax = plt.subplots(figsize=(10,5))\n",
    "ax.set_xlabel('n')\n",
    "ax.set_ylabel('tempo (seg)')\n",
    "ax.scatter(n_exaustivo, tempos_exaust_sw)\n",
    "plt.show()"
   ]
  },
  {
   "cell_type": "markdown",
   "metadata": {},
   "source": [
    "---------------------\n",
    "### Busca Exaustiva para Alinhamento de Sequencias utilizando a estratégia de truncamento"
   ]
  },
  {
   "cell_type": "code",
   "execution_count": 102,
   "metadata": {},
   "outputs": [],
   "source": [
    "n_exaustivo_trunc = []"
   ]
  },
  {
   "cell_type": "code",
   "execution_count": 106,
   "metadata": {},
   "outputs": [],
   "source": [
    "for i in range(5,200,10):\n",
    "    random.seed(10)\n",
    "    n = i # tamanho da primeira sequência\n",
    "    m = random.randint(i,200) # tamanho da segunda sequência\n",
    "    n_exaustivo_trunc.append(n)\n",
    "\n",
    "    file = './Entradas/input_exaustiva_trunc'+ str(i) # nome do arquivo a ser gerado\n",
    "    f = open(file, 'w')\n",
    "    seq=[str(n)+'\\n',\n",
    "        str(m)+'\\n',\n",
    "        ''.join(random.choices(['A','T','C','G','-'],k=n))+'\\n',\n",
    "        ''.join(random.choices(['A','T','C','G','-'],k=m))]\n",
    "    f.writelines(seq)\n",
    "    f.close()\n",
    "    # print(''.join(seq))"
   ]
  },
  {
   "cell_type": "code",
   "execution_count": 109,
   "metadata": {},
   "outputs": [],
   "source": [
    "arqs_exaustivo_trunc = [f'./Entradas/input_exaustiva_trunc{i}' for i in n_exaustivo_trunc]"
   ]
  },
  {
   "cell_type": "code",
   "execution_count": 110,
   "metadata": {},
   "outputs": [],
   "source": [
    "tempos_exaust_trunc = [roda_com_entrada('./BuscaExaustiva/main_trunc', arq)[1] for arq in arqs_exaustivo_trunc]"
   ]
  },
  {
   "cell_type": "code",
   "execution_count": 111,
   "metadata": {},
   "outputs": [
    {
     "data": {
      "image/png": "[encoded data removed]",
      "text/plain": [
       "<Figure size 720x360 with 1 Axes>"
      ]
     },
     "metadata": {
      "needs_background": "light"
     },
     "output_type": "display_data"
    }
   ],
   "source": [
    "import matplotlib.pyplot as plt\n",
    "fig, ax = plt.subplots(figsize=(10,5))\n",
    "ax.set_xlabel('n')\n",
    "ax.set_ylabel('tempo (seg)')\n",
    "ax.scatter(n_exaustivo_trunc, tempos_exaust_trunc)\n",
    "plt.show()"
   ]
  },
  {
   "cell_type": "markdown",
   "metadata": {},
   "source": [
    "---------------------\n",
    "### Conclusão"
   ]
  },
  {
   "cell_type": "code",
   "execution_count": 115,
   "metadata": {},
   "outputs": [
    {
     "data": {
      "image/png": "[encoded data removed]",
      "text/plain": [
       "<Figure size 720x360 with 1 Axes>"
      ]
     },
     "metadata": {
      "needs_background": "light"
     },
     "output_type": "display_data"
    }
   ],
   "source": [
    "fig, ax = plt.subplots(figsize=(10,5))\n",
    "ax.set_xlabel('n')\n",
    "ax.set_ylabel('tempo (seg)')\n",
    "ax.plot(valores_n, tempos_sw, label='Heurística Smith-Waterman')\n",
    "plt.plot(valores_n, tempos_buscaLocal, label='Busca Local')\n",
    "ax.plot(n_exaustivo, tempos_exaust_sw, label='Busca Exaustiva com Smith-Waterman')\n",
    "plt.plot(n_exaustivo_trunc, tempos_exaust_trunc, label='Busca Exaustiva com Truncamento')\n",
    "plt.legend()\n",
    "plt.show()"
   ]
  },
  {
   "cell_type": "markdown",
   "metadata": {},
   "source": [
    "Para comparar os scores de cada uma das estratégias, foi utilizado a mesma entrada em cada uma delas para realizar a comparação:\n",
    "```\n",
    "    tamanho da primeira sequencia (n): 15\n",
    "    tamanho da segunda sequencia (m): 60\n",
    "    primeira sequencia: CATGTAAC-CTGAGA\n",
    "    segunda sequencia: -CTT-CTT-G-A-CGTGGTTA--CAATA--T-CAGTCAGTCGCATAA---CG--ACGCA-\n",
    "```"
   ]
  },
  {
   "cell_type": "code",
   "execution_count": 7,
   "metadata": {},
   "outputs": [
    {
     "name": "stdout",
     "output_type": "stream",
     "text": [
      "╒═══════════════════════════════╤══════════════════════════╤═════════════════════════════════════════════════════════════╤══════════════╕\n",
      "│ Estratégias                   │ Sequencia A utilizada    │ Sequencia B utilizada                                       │   High Score │\n",
      "╞═══════════════════════════════╪══════════════════════════╪═════════════════════════════════════════════════════════════╪══════════════╡\n",
      "│ Heurística                    │ CA-T-G--TAA-C-CTG--A-G-A │ CAGTCGCATAA---C-G--ACGCA                                    │           15 │\n",
      "├───────────────────────────────┼──────────────────────────┼─────────────────────────────────────────────────────────────┼──────────────┤\n",
      "│ Busca Local                   │ CATGTAAC-CTGAGA          │ GTCAGTCGCATAA--                                             │           11 │\n",
      "├───────────────────────────────┼──────────────────────────┼─────────────────────────────────────────────────────────────┼──────────────┤\n",
      "│ Busca Exaustiva - SW          │ CATGTAAC-CTGAGA          │ -CTT-CTT-G-A-CGTGGTTA--CAATA--T-CAGTCAGTCGCATAA---CG--ACGCA │           15 │\n",
      "├───────────────────────────────┼──────────────────────────┼─────────────────────────────────────────────────────────────┼──────────────┤\n",
      "│ Busca Exaustiva - truncamento │ GTAAC-C                  │ GTTA--C                                                     │            8 │\n",
      "╘═══════════════════════════════╧══════════════════════════╧═════════════════════════════════════════════════════════════╧══════════════╛\n"
     ]
    }
   ],
   "source": [
    "from tabulate import tabulate\n",
    "print(tabulate({'Estratégias': ['Heurística', 'Busca Local', 'Busca Exaustiva - SW', 'Busca Exaustiva - truncamento'], 'Sequencia A utilizada': ['CA-T-G--TAA-C-CTG--A-G-A', 'CATGTAAC-CTGAGA', 'CATGTAAC-CTGAGA', 'GTAAC-C'], 'Sequencia B utilizada': ['CAGTCGCATAA---C-G--ACGCA', 'GTCAGTCGCATAA--', '-CTT-CTT-G-A-CGTGGTTA--CAATA--T-CAGTCAGTCGCATAA---CG--ACGCA', 'GTTA--C'], 'High Score': [15, 11, 15, 8]}, headers=\"keys\", tablefmt='fancy_grid', missingval='N/A'))"
   ]
  }
 ],
 "metadata": {
  "interpreter": {
   "hash": "916dbcbb3f70747c44a77c7bcd40155683ae19c65e1c03b4aa3499c5328201f1"
  },
  "kernelspec": {
   "display_name": "Python 3.8.10 64-bit",
   "language": "python",
   "name": "python3"
  },
  "language_info": {
   "codemirror_mode": {
    "name": "ipython",
    "version": 3
   },
   "file_extension": ".py",
   "mimetype": "text/x-python",
   "name": "python",
   "nbconvert_exporter": "python",
   "pygments_lexer": "ipython3",
   "version": "3.8.10"
  },
  "orig_nbformat": 4
 },
 "nbformat": 4,
 "nbformat_minor": 2
}
