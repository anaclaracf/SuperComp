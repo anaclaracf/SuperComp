{
 "cells": [
  {
   "cell_type": "markdown",
   "metadata": {},
   "source": [
    "# Relatório Intermediário - Alinhamento de Sequencias de DNA\n",
    "### Super Computação\n",
    "Aluna: Ana Clara Carneiro de Freitas"
   ]
  },
  {
   "cell_type": "markdown",
   "metadata": {},
   "source": [
    "Este projeto foi desenvolvido com o intuito de testar e desenvolver diversas estratégias para realizar o alinhamento de sequências de DNA, o qual consiste em comparar duas sequências de bases para observar seu nível de similaridade. Tal similaridade é calculada por meio dos acertos (matchs), os quais contribuem com um sinal positivo nessa similaridade, e dos erros (gaps e mismatchs), que contribuem negativamente."
   ]
  },
  {
   "cell_type": "markdown",
   "metadata": {},
   "source": [
    "Dessa maneira, visando encontrar um alinhamento que maximize esse nível de similaridade, foram implementadas três estratégias, sendo elas uma Solução Heurística, uma Busca Local e, por fim, uma Busca Exaustiva."
   ]
  },
  {
   "cell_type": "markdown",
   "metadata": {},
   "source": [
    "Imports do projeto:"
   ]
  },
  {
   "cell_type": "code",
   "execution_count": null,
   "metadata": {},
   "outputs": [],
   "source": [
    "import subprocess\n",
    "import time\n",
    "import random\n",
    "import numpy as np\n",
    "import matplotlib.pyplot as plt"
   ]
  },
  {
   "cell_type": "markdown",
   "metadata": {},
   "source": [
    "Função feita para rodar os algoritmos e calcular suas saídas e tempo de duração do programa:"
   ]
  },
  {
   "cell_type": "code",
   "execution_count": null,
   "metadata": {},
   "outputs": [],
   "source": [
    "def roda_com_entrada(ex, in_f):\n",
    "    with open(in_f) as f:\n",
    "        start = time.perf_counter()\n",
    "        proc = subprocess.run([ex], input=f.read(), text=True, capture_output=True)\n",
    "        end = time.perf_counter()\n",
    "\n",
    "    return proc.stdout, end-start"
   ]
  },
  {
   "cell_type": "markdown",
   "metadata": {},
   "source": [
    "Todos os arquivos rodam com uma entrada que segue o mesmo padrão, sendo ela:\n",
    "- o tamanho da primeira sequência\n",
    "- o tamanho da segunda sequência\n",
    "- a primeira sequência \n",
    "- a segunda sequência"
   ]
  },
  {
   "cell_type": "markdown",
   "metadata": {},
   "source": [
    "---------------------\n",
    "### Solução Heurística de Alinhamento Local de Smith-Waterman"
   ]
  },
  {
   "cell_type": "markdown",
   "metadata": {},
   "source": [
    "A primeira estratégia implementada foi a heurística, a qual realiza seu alinhamento de sequências de DNA por meio do algoritmo smith-waterman. Esta, para encontrar um alinhamento local otimo, realiza o calculo da diagonal, deleção e inserção de cada um dos elementos da matriz, para assim, descobrir o maior valor entre eles e encontrar o melhor alinhamento das sequencias.\n",
    "A imagem abaixo exemplifica de forma mais clara como esse caminho é montado na matriz."
   ]
  },
  {
   "cell_type": "markdown",
   "metadata": {},
   "source": [
    "<img src=\"./Imagens/sw.jpg\">"
   ]
  },
  {
   "cell_type": "markdown",
   "metadata": {},
   "source": [
    "Inicialmente, visando averiguar a performance do algoritmo em relação ao tamanho da entrada, foram criados diversos arquivos que possuem sequencias com tamanhos diferentes, desde muito pequenos à muito grandes, para testar todos os tipos de cenários."
   ]
  },
  {
   "cell_type": "code",
   "execution_count": 6,
   "metadata": {},
   "outputs": [],
   "source": [
    "\n",
    "valores_n = []\n",
    "\n",
    "for i in range(5,605,30):\n",
    "    for j in range(0, 30, 5):\n",
    "        random.seed(10)\n",
    "        n = i # tamanho da primeira sequência\n",
    "        m = random.randint(i,650) # tamanho da segunda sequência\n",
    "        \n",
    "\n",
    "        file = './Entradas/input'+ str(i) + '_'+ str(j)# nome do arquivo a ser gerado\n",
    "        f = open(file, 'w')\n",
    "        seq=[str(n)+'\\n',\n",
    "            str(m)+'\\n',\n",
    "            ''.join(random.choices(['A','T','C','G','-'],k=n))+'\\n',\n",
    "            ''.join(random.choices(['A','T','C','G','-'],k=m))]\n",
    "        f.writelines(seq)\n",
    "        f.close()\n",
    "    valores_n.append(n)"
   ]
  },
  {
   "cell_type": "markdown",
   "metadata": {},
   "source": [
    "Além disso, para que os valores de tempo ficassem mais precisos, foi feito uma média entre os tempos de arquivos com entradas do mesmo tamanho, como apresentado abaixo:"
   ]
  },
  {
   "cell_type": "code",
   "execution_count": 7,
   "metadata": {},
   "outputs": [],
   "source": [
    "tempos_sw = []\n",
    "for i in valores_n:\n",
    "    media = []\n",
    "    for j in range(0, 30, 5):\n",
    "        arqs = f'./Entradas/input'+ str(i) + '_'+ str(j)\n",
    "        out, tempo = roda_com_entrada('./Smith-Waterman/main',arqs)\n",
    "        media.append(tempo)\n",
    "\n",
    "    tempos_sw.append(np.mean(media))"
   ]
  },
  {
   "cell_type": "markdown",
   "metadata": {},
   "source": [
    "Agora com os valores de tempo calculados sobre cada tamanho de entrada N, tamanho da primeira sequencia, foi possível plotar o gráfico abaixo para entender de forma mais visual a performance da heurística."
   ]
  },
  {
   "cell_type": "code",
   "execution_count": 8,
   "metadata": {},
   "outputs": [
    {
     "data": {
      "image/png": "[encoded data removed]",
      "text/plain": [
       "<Figure size 720x360 with 1 Axes>"
      ]
     },
     "metadata": {
      "needs_background": "light"
     },
     "output_type": "display_data"
    }
   ],
   "source": [
    "fig, ax = plt.subplots(figsize=(10,5))\n",
    "ax.set_xlabel('n')\n",
    "ax.set_ylabel('tempo (seg)')\n",
    "ax.set_title('Heurística de Smith-Waterman Tempo x Tamanho de n')\n",
    "ax.scatter(valores_n, tempos_sw)\n",
    "plt.show()"
   ]
  },
  {
   "cell_type": "markdown",
   "metadata": {},
   "source": [
    "Com o gráfico feito é possível observar, desconsiderando alguns outliers, uma tendência crescente entre o aumento do tempo e o aumento no comprimento das entradas. Além disso, a heurística pode ser considerada eficiente pois, mesmo com altos valores de entrada, a variação do tempo é muito baixa, variando apenas alguns milesegundos.\n",
    "\n",
    "\n",
    "Visando entender como melhorar a heurística, foi efetuado o profiling para entender os pontos de lentidão e, foi possível observar que eles estavam localizados tanto na leitura quanto na escrita de arquivos, como demonstrado abaixo. A partir disso, foi possível concluir que a implentação do Smith-Waterman é eficiente."
   ]
  },
  {
   "cell_type": "raw",
   "metadata": {},
   "source": [
    " 6      cin >> n >> m;\n",
    "7,957  => ???:0x000000000010a2c0 (2x)\n",
    "    9      cin >> first_seq >> second_seq;\n",
    "20,056  => ???:0x000000000010a350 (2x)"
   ]
  },
  {
   "cell_type": "raw",
   "metadata": {},
   "source": [
    "5      cout << \"Max score: \" << max_value << endl;\n",
    "4,451  => ???:0x000000000010a3f0 (1x)\n",
    "    .      cout << \"Primeira sequencia: \" << new_first_seq << endl;\n",
    "    .      cout << \"Segunda sequencia: \" << new_second_seq << endl;\n",
    "    .  \n",
    "    .  \n",
    "    4      ofstream output_file;\n",
    "6,209  => ???:0x000000000010a3e0 (1x)\n",
    "3,314  => ???:0x000000000010a380 (1x)\n",
    "    4      output_file.open (\"output\");\n",
    "6,152  => ???:0x000000000010a240 (1x)\n",
    "    .  \n",
    "    4      output_file << max_value << '\\n';\n",
    "1,424  => ???:0x000000000010a3f0 (1x)\n",
    "    .      output_file << new_first_seq << '\\n';\n",
    "    .      output_file << new_second_seq;\n",
    "    .  \n",
    "    2      output_file.close();\n",
    "9,810  => ???:0x000000000010a360 (1x)"
   ]
  },
  {
   "cell_type": "markdown",
   "metadata": {},
   "source": [
    "------------------------------\n",
    "### Algoritmo de Busca Local para Alinhamento"
   ]
  },
  {
   "cell_type": "markdown",
   "metadata": {},
   "source": [
    "O segundo algoritmo implementado foi o de busca local, que diferente do apresentado acima, conta com aleatoriedade. O fato da aleatoriedade ter sido implementada tras um aspecto positivo ao resultado do alinhamento, podendo transformar a solução em ótima.\n",
    "\n",
    "Este também, em vez de realizar o alinhamento entre duas sequencias, faz entre uma sequencia e uma subsequencia, a qual é selecionada por aleatoriedade. Além disso, este foi rodado diversas vezes para que fosse possível analisar de forma mais precisa os resultados e o comportamento em relação aos valores aleatórios k, tamnho máximo da subsequencia, e p, quantidade de tentativas de alinhamnetos entre as subsequencias para encontrar o melhor score."
   ]
  },
  {
   "cell_type": "markdown",
   "metadata": {},
   "source": [
    "Igual ao algoritmo anterior, foi feito uma média entre os tempos de arquivos com entradas do mesmo tamanho, para melhorar a precisão dos tempos."
   ]
  },
  {
   "cell_type": "code",
   "execution_count": 9,
   "metadata": {},
   "outputs": [],
   "source": [
    "tempos_buscaLocal = []\n",
    "for i in valores_n:\n",
    "    media = []\n",
    "    for j in range(0, 30, 5):\n",
    "        arqs = f'./Entradas/input'+ str(i) + '_'+ str(j)\n",
    "        out, tempo = roda_com_entrada('./BuscaLocal/main',arqs)\n",
    "        media.append(tempo)\n",
    "\n",
    "    tempos_buscaLocal.append(np.mean(media))"
   ]
  },
  {
   "cell_type": "markdown",
   "metadata": {},
   "source": [
    "Agora com os valores de tempo calculados sobre cada tamanho de entrada N, tamanho da primeira sequencia, foi possível plotar o gráfico abaixo para entender de forma mais visual a performance da busca local."
   ]
  },
  {
   "cell_type": "code",
   "execution_count": 10,
   "metadata": {},
   "outputs": [
    {
     "data": {
      "image/png": "[encoded data removed]",
      "text/plain": [
       "<Figure size 720x360 with 1 Axes>"
      ]
     },
     "metadata": {
      "needs_background": "light"
     },
     "output_type": "display_data"
    }
   ],
   "source": [
    "fig, ax = plt.subplots(figsize=(10,5))\n",
    "ax.set_xlabel('n')\n",
    "ax.set_ylabel('tempo (seg)')\n",
    "ax.set_title('Busca Local Tempo x Tamanho de n')\n",
    "ax.scatter(valores_n, tempos_buscaLocal)\n",
    "plt.show()"
   ]
  },
  {
   "cell_type": "markdown",
   "metadata": {},
   "source": [
    "Com o segundo gráfico feito, é possível perceber que ambas as estratégias receberam as mesmas quantidades de entradas, porém essa, com o aumento no tamanho das entradas, o tempo para executar o programa aumenta. Porém, isso pode ser explicado pelo fato da busca local ser um arquivo que possui diversas saídas, devido a existencia do P, fazendo com que o tempo de execução do programa fique realmente maior, entretanto este continua razoável. \n",
    "\n",
    "Além disso, para entender um pouco mais dessa lentidão, foi rodado o profiling, que além de comprovar o fato mencionado acima, apontou que o cálculo do max score, por ser refeito várias vezes e possuir uma série de for, também carrega o programa, de forma a deixar o tempo de execução maior."
   ]
  },
  {
   "cell_type": "raw",
   "metadata": {},
   "source": [
    "matrix max_score(matrix H, string first_seq, string second_seq, int k, int w){\n",
    "        .      int diagonal, deletion, insertion;\n",
    "        .      string seq_max;\n",
    "        .  \n",
    "  234,691      for (int i = 1; i <= k; i++){\n",
    "1,247,900          for (int j = 1; j <= k; j++){\n",
    "1,169,712              w = first_seq[i] == second_seq[j] ? 2 : -1;\n",
    "        .  \n",
    "1,638,425              diagonal = H[i-1][j-1] + w;\n",
    "2,339,424              deletion = H[i-1][j] - 1;\n",
    "        .              insertion = H[i][j-1] - 1;\n",
    "        .  \n",
    "  389,904              H[i][j] = max({0, diagonal, deletion, insertion});\n",
    "        .          }\n",
    "        .      }\n",
    "        .  \n",
    "        .      return H;\n",
    "        .  }"
   ]
  },
  {
   "cell_type": "markdown",
   "metadata": {},
   "source": [
    "---------------------\n",
    "### Busca Exaustiva para Alinhamento de Sequencias utilizando a estratégia de alinhamento Local de Smith-Waterman"
   ]
  },
  {
   "cell_type": "code",
   "execution_count": 13,
   "metadata": {},
   "outputs": [],
   "source": [
    "n_exaustivo = []\n",
    "\n",
    "for i in range(5,45,5):\n",
    "    for j in range(0, 30, 5):\n",
    "        random.seed(10)\n",
    "        n = i # tamanho da primeira sequência\n",
    "        m = random.randint(i,80) # tamanho da segunda sequência\n",
    "        \n",
    "\n",
    "        file = './Entradas/input_exaustiva'+ str(i) + '_'+ str(j) # nome do arquivo a ser gerado\n",
    "        f = open(file, 'w')\n",
    "        seq=[str(n)+'\\n',\n",
    "            str(m)+'\\n',\n",
    "            ''.join(random.choices(['A','T','C','G','-'],k=n))+'\\n',\n",
    "            ''.join(random.choices(['A','T','C','G','-'],k=m))]\n",
    "        f.writelines(seq)\n",
    "        f.close()\n",
    "    \n",
    "    n_exaustivo.append(n)"
   ]
  },
  {
   "cell_type": "code",
   "execution_count": 14,
   "metadata": {},
   "outputs": [],
   "source": [
    "tempos_exaust_sw = []\n",
    "for i in n_exaustivo:\n",
    "    media = []\n",
    "    for j in range(0, 30, 5):\n",
    "        arqs = f'./Entradas/input_exaustiva'+ str(i) + '_'+ str(j)\n",
    "        out, tempo = roda_com_entrada('./BuscaExaustiva/main_sw',arqs)\n",
    "        media.append(tempo)\n",
    "\n",
    "    tempos_exaust_sw.append(np.mean(media))"
   ]
  },
  {
   "cell_type": "code",
   "execution_count": 15,
   "metadata": {},
   "outputs": [
    {
     "data": {
      "image/png": "[encoded data removed]",
      "text/plain": [
       "<Figure size 720x360 with 1 Axes>"
      ]
     },
     "metadata": {
      "needs_background": "light"
     },
     "output_type": "display_data"
    }
   ],
   "source": [
    "fig, ax = plt.subplots(figsize=(10,5))\n",
    "ax.set_xlabel('n')\n",
    "ax.set_ylabel('tempo (seg)')\n",
    "ax.set_title('Busca Exaustiva com Smith-Waterman Tempo x Tamanho de n')\n",
    "ax.scatter(n_exaustivo, tempos_exaust_sw)\n",
    "plt.show()"
   ]
  },
  {
   "cell_type": "markdown",
   "metadata": {},
   "source": [
    "---------------------\n",
    "### Busca Exaustiva para Alinhamento de Sequencias utilizando a estratégia de truncamento"
   ]
  },
  {
   "cell_type": "code",
   "execution_count": 16,
   "metadata": {},
   "outputs": [],
   "source": [
    "n_exaustivo_trunc = []\n",
    "\n",
    "for i in range(5,200,10):\n",
    "    for j in range(0, 30, 5):\n",
    "        random.seed(10)\n",
    "        n = i # tamanho da primeira sequência\n",
    "        m = random.randint(i,200) # tamanho da segunda sequência\n",
    "        \n",
    "\n",
    "        file = './Entradas/input_exaustiva_trunc'+ str(i) + '_'+ str(j) # nome do arquivo a ser gerado\n",
    "        f = open(file, 'w')\n",
    "        seq=[str(n)+'\\n',\n",
    "            str(m)+'\\n',\n",
    "            ''.join(random.choices(['A','T','C','G','-'],k=n))+'\\n',\n",
    "            ''.join(random.choices(['A','T','C','G','-'],k=m))]\n",
    "        f.writelines(seq)\n",
    "        f.close()\n",
    "\n",
    "    n_exaustivo_trunc.append(n)\n",
    "    # print(''.join(seq))"
   ]
  },
  {
   "cell_type": "code",
   "execution_count": 17,
   "metadata": {},
   "outputs": [],
   "source": [
    "tempos_exaust_trunc = []\n",
    "for i in n_exaustivo_trunc:\n",
    "    media = []\n",
    "    for j in range(0, 30, 5):\n",
    "        arqs = f'./Entradas/input_exaustiva_trunc'+ str(i) + '_'+ str(j)\n",
    "        out, tempo = roda_com_entrada('./BuscaExaustiva/main_trunc',arqs)\n",
    "        media.append(tempo)\n",
    "\n",
    "    tempos_exaust_trunc.append(np.mean(media))"
   ]
  },
  {
   "cell_type": "code",
   "execution_count": 18,
   "metadata": {},
   "outputs": [
    {
     "data": {
      "image/png": "[encoded data removed]",
      "text/plain": [
       "<Figure size 720x360 with 1 Axes>"
      ]
     },
     "metadata": {
      "needs_background": "light"
     },
     "output_type": "display_data"
    }
   ],
   "source": [
    "fig, ax = plt.subplots(figsize=(10,5))\n",
    "ax.set_xlabel('n')\n",
    "ax.set_ylabel('tempo (seg)')\n",
    "ax.set_title('Busca Exaustiva com truncamento Tempo x Tamanho de n')\n",
    "ax.scatter(n_exaustivo_trunc, tempos_exaust_trunc)\n",
    "plt.show()"
   ]
  },
  {
   "cell_type": "markdown",
   "metadata": {},
   "source": [
    "---------------------\n",
    "### Conclusão"
   ]
  },
  {
   "cell_type": "code",
   "execution_count": 19,
   "metadata": {},
   "outputs": [
    {
     "data": {
      "image/png": "[encoded data removed]",
      "text/plain": [
       "<Figure size 720x360 with 1 Axes>"
      ]
     },
     "metadata": {
      "needs_background": "light"
     },
     "output_type": "display_data"
    }
   ],
   "source": [
    "fig, ax = plt.subplots(figsize=(10,5))\n",
    "ax.set_xlabel('n')\n",
    "ax.set_ylabel('tempo (seg)')\n",
    "ax.plot(valores_n, tempos_sw, label='Heurística Smith-Waterman')\n",
    "plt.plot(valores_n, tempos_buscaLocal, label='Busca Local')\n",
    "ax.plot(n_exaustivo, tempos_exaust_sw, label='Busca Exaustiva com Smith-Waterman')\n",
    "plt.plot(n_exaustivo_trunc, tempos_exaust_trunc, label='Busca Exaustiva com Truncamento')\n",
    "plt.legend()\n",
    "plt.show()"
   ]
  },
  {
   "cell_type": "markdown",
   "metadata": {},
   "source": [
    "Para comparar os scores de cada uma das estratégias, foi utilizado a mesma entrada em cada uma delas para realizar a comparação:\n",
    "```\n",
    "    tamanho da primeira sequencia (n): 15\n",
    "    tamanho da segunda sequencia (m): 60\n",
    "    primeira sequencia: CATGTAAC-CTGAGA\n",
    "    segunda sequencia: -CTT-CTT-G-A-CGTGGTTA--CAATA--T-CAGTCAGTCGCATAA---CG--ACGCA-\n",
    "```"
   ]
  },
  {
   "cell_type": "code",
   "execution_count": 7,
   "metadata": {},
   "outputs": [
    {
     "name": "stdout",
     "output_type": "stream",
     "text": [
      "╒═══════════════════════════════╤══════════════════════════╤═════════════════════════════════════════════════════════════╤══════════════╕\n",
      "│ Estratégias                   │ Sequencia A utilizada    │ Sequencia B utilizada                                       │   High Score │\n",
      "╞═══════════════════════════════╪══════════════════════════╪═════════════════════════════════════════════════════════════╪══════════════╡\n",
      "│ Heurística                    │ CA-T-G--TAA-C-CTG--A-G-A │ CAGTCGCATAA---C-G--ACGCA                                    │           15 │\n",
      "├───────────────────────────────┼──────────────────────────┼─────────────────────────────────────────────────────────────┼──────────────┤\n",
      "│ Busca Local                   │ CATGTAAC-CTGAGA          │ GTCAGTCGCATAA--                                             │           11 │\n",
      "├───────────────────────────────┼──────────────────────────┼─────────────────────────────────────────────────────────────┼──────────────┤\n",
      "│ Busca Exaustiva - SW          │ CATGTAAC-CTGAGA          │ -CTT-CTT-G-A-CGTGGTTA--CAATA--T-CAGTCAGTCGCATAA---CG--ACGCA │           15 │\n",
      "├───────────────────────────────┼──────────────────────────┼─────────────────────────────────────────────────────────────┼──────────────┤\n",
      "│ Busca Exaustiva - truncamento │ GTAAC-C                  │ GTTA--C                                                     │            8 │\n",
      "╘═══════════════════════════════╧══════════════════════════╧═════════════════════════════════════════════════════════════╧══════════════╛\n"
     ]
    }
   ],
   "source": [
    "from tabulate import tabulate\n",
    "print(tabulate({'Estratégias': ['Heurística', 'Busca Local', 'Busca Exaustiva - SW', 'Busca Exaustiva - truncamento'], 'Sequencia A utilizada': ['CA-T-G--TAA-C-CTG--A-G-A', 'CATGTAAC-CTGAGA', 'CATGTAAC-CTGAGA', 'GTAAC-C'], 'Sequencia B utilizada': ['CAGTCGCATAA---C-G--ACGCA', 'GTCAGTCGCATAA--', '-CTT-CTT-G-A-CGTGGTTA--CAATA--T-CAGTCAGTCGCATAA---CG--ACGCA', 'GTTA--C'], 'High Score': [15, 11, 15, 8]}, headers=\"keys\", tablefmt='fancy_grid', missingval='N/A'))"
   ]
  }
 ],
 "metadata": {
  "interpreter": {
   "hash": "916dbcbb3f70747c44a77c7bcd40155683ae19c65e1c03b4aa3499c5328201f1"
  },
  "kernelspec": {
   "display_name": "Python 3.8.10 64-bit",
   "language": "python",
   "name": "python3"
  },
  "language_info": {
   "codemirror_mode": {
    "name": "ipython",
    "version": 3
   },
   "file_extension": ".py",
   "mimetype": "text/x-python",
   "name": "python",
   "nbconvert_exporter": "python",
   "pygments_lexer": "ipython3",
   "version": "3.8.10"
  },
  "orig_nbformat": 4
 },
 "nbformat": 4,
 "nbformat_minor": 2
}
